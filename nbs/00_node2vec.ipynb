{
 "cells": [
  {
   "cell_type": "markdown",
   "metadata": {},
   "source": [
    "# node2vec\n",
    "\n",
    "> TBD"
   ]
  },
  {
   "cell_type": "code",
   "execution_count": null,
   "metadata": {},
   "outputs": [],
   "source": [
    "#| default_exp graphml.node2vec"
   ]
  },
  {
   "cell_type": "code",
   "execution_count": null,
   "metadata": {},
   "outputs": [],
   "source": [
    "#| hide\n",
    "from nbdev.showdoc import *"
   ]
  },
  {
   "cell_type": "code",
   "execution_count": null,
   "metadata": {},
   "outputs": [],
   "source": [
    "#| export\n",
    "import torch\n",
    "from torch_geometric.utils.convert import from_networkx\n",
    "from torch_geometric.data import InMemoryDataset, download_url\n",
    "import zipfile\n",
    "import networkx as nx\n",
    "\n",
    "\n",
    "class NetworkxFootballGraph(InMemoryDataset):\n",
    "    def __init__(\n",
    "        self, root, transform=None, \n",
    "        pre_transform=None, pre_filter=None):\n",
    "        super().__init__(root, transform, pre_transform, pre_filter)\n",
    "        self.data, self.slices = torch.load(self.processed_paths[0])\n",
    "\n",
    "    @property\n",
    "    def raw_file_names(self):\n",
    "        return ['football.zip']\n",
    "\n",
    "    @property\n",
    "    def processed_file_names(self):\n",
    "        return ['data.pt']\n",
    "\n",
    "    def download(self):\n",
    "        # Download to `self.raw_dir`.\n",
    "        url = \"http://www-personal.umich.edu/~mejn/netdata/football.zip\"\n",
    "        download_url(url, self.raw_dir)\n",
    "\n",
    "    def process(self):\n",
    "        zf = zipfile.ZipFile(self.raw_dir + \"/\" + self.raw_file_names[0])  # zipfile object\n",
    "        # txt = zf.read(\"football.txt\").decode()  # info file\n",
    "        gml = zf.read(\"football.gml\").decode()  # read gml data\n",
    "        # throw away bogus first line with # from mejn files\n",
    "        gml = gml.split(\"\\n\")[1:]\n",
    "        G = nx.parse_gml(gml)\n",
    "        data_list = [from_networkx(G)]\n",
    "        if self.pre_filter is not None:\n",
    "            data_list = [data for data in data_list if self.pre_filter(data)]\n",
    "\n",
    "        if self.pre_transform is not None:\n",
    "            data_list = [self.pre_transform(data) for data in data_list]\n",
    "\n",
    "        data, slices = self.collate(data_list)\n",
    "        torch.save((data, slices), self.processed_paths[0])"
   ]
  },
  {
   "cell_type": "code",
   "execution_count": null,
   "metadata": {},
   "outputs": [],
   "source": [
    "#| hide\n",
    "from pathlib import Path\n",
    "\n",
    "data_path = Path(\"../data\")\n",
    "if not data_path.exists():\n",
    "    data_path.mkdir()\n",
    "\n",
    "football_dataset = NetworkxFootballGraph(root=data_path)"
   ]
  },
  {
   "cell_type": "code",
   "execution_count": null,
   "metadata": {},
   "outputs": [
    {
     "data": {
      "text/plain": [
       "1"
      ]
     },
     "execution_count": null,
     "metadata": {},
     "output_type": "execute_result"
    }
   ],
   "source": [
    "#| hide\n",
    "football_dataset.len()"
   ]
  },
  {
   "cell_type": "code",
   "execution_count": null,
   "metadata": {},
   "outputs": [
    {
     "data": {
      "text/plain": [
       "Data(edge_index=[2, 1226], value=[115], num_nodes=115)"
      ]
     },
     "execution_count": null,
     "metadata": {},
     "output_type": "execute_result"
    }
   ],
   "source": [
    "#| hide\n",
    "football_dataset.get(0)"
   ]
  },
  {
   "cell_type": "code",
   "execution_count": null,
   "metadata": {},
   "outputs": [
    {
     "data": {
      "text/plain": [
       "device(type='cuda')"
      ]
     },
     "execution_count": null,
     "metadata": {},
     "output_type": "execute_result"
    }
   ],
   "source": [
    "#| hide\n",
    "import torch\n",
    "\n",
    "device = torch.device('cuda' if torch.cuda.is_available() else 'cpu')\n",
    "device"
   ]
  },
  {
   "cell_type": "code",
   "execution_count": null,
   "metadata": {},
   "outputs": [],
   "source": [
    "#| hide\n",
    "from torch_geometric.nn import Node2Vec\n",
    "\n",
    "model = Node2Vec(\n",
    "    football_dataset.edge_index,\n",
    "    embedding_dim=128,\n",
    "    walk_length=20,\n",
    "    context_size=10,\n",
    "    walks_per_node=10,\n",
    "    num_negative_samples=1,\n",
    "    p=1,\n",
    "    q=1,\n",
    "    sparse=True,\n",
    ").to(device)"
   ]
  },
  {
   "cell_type": "code",
   "execution_count": null,
   "metadata": {},
   "outputs": [],
   "source": [
    "#| export\n",
    "import sys\n",
    "\n",
    "def train(model):\n",
    "    num_workers = 0 if sys.platform.startswith('win') else 4\n",
    "    loader = model.loader(\n",
    "        batch_size=128, \n",
    "        shuffle=True,\n",
    "        num_workers=num_workers)\n",
    "    optimizer = torch.optim.SparseAdam(list(model.parameters()), lr=0.01)\n",
    "    model.train()\n",
    "    total_loss = 0\n",
    "    for pos_rw, neg_rw in loader:\n",
    "        optimizer.zero_grad()\n",
    "        loss = model.loss(pos_rw.to(device), neg_rw.to(device))\n",
    "        loss.backward()\n",
    "        optimizer.step()\n",
    "        total_loss += loss.item()\n",
    "    overall_loss = total_loss / len(loader)\n",
    "    return overall_loss"
   ]
  },
  {
   "cell_type": "code",
   "execution_count": null,
   "metadata": {},
   "outputs": [],
   "source": [
    "#| hide\n",
    "loss = train(model)"
   ]
  },
  {
   "cell_type": "code",
   "execution_count": null,
   "metadata": {},
   "outputs": [],
   "source": [
    "#| export\n",
    "# Get k-nearest neighbors for the embedded nodes\n",
    "from sklearn.cluster import KMeans\n",
    "from sklearn.manifold import TSNE\n",
    "\n",
    "@torch.no_grad()\n",
    "def get_kmeans(model, data, components: int = 2, max_clusters: int = 6):\n",
    "    clusters = {}\n",
    "    model.eval()\n",
    "    z = model(torch.arange(data.num_nodes, device=device))\n",
    "    z = TSNE(n_components=components).fit_transform(z.cpu().numpy())\n",
    "    clusters[\"data\"] = z\n",
    "    clusters[\"clusters\"] = {}\n",
    "    for i in range(2, max_clusters):\n",
    "        i_k_means = KMeans(\n",
    "            n_clusters=i, \n",
    "            n_init=10\n",
    "        ).fit(z)\n",
    "        i_clusters = i_k_means.predict(z)\n",
    "        clusters[\"clusters\"][i] = {\n",
    "            \"labels\": i_clusters,\n",
    "            \"algo\": i_k_means,\n",
    "        }\n",
    "    return clusters"
   ]
  },
  {
   "cell_type": "code",
   "execution_count": null,
   "metadata": {},
   "outputs": [
    {
     "data": {
      "text/plain": [
       "array([0, 0, 1, 0, 1, 0, 0, 1, 0, 0, 1, 0, 1, 1, 1, 0, 1, 0, 1, 0, 1, 1,\n",
       "       0, 1, 0, 0, 1, 0, 1, 1, 1, 1, 0, 0, 0, 1, 1, 0, 0, 1, 0, 0, 1, 1,\n",
       "       1, 1, 0, 1, 1, 1, 1, 0, 0, 1, 1, 1, 0, 1, 1, 0, 0, 0, 1, 1, 1, 0,\n",
       "       1, 0, 0, 1, 0, 1, 1, 0, 1, 0, 0, 0, 1, 0, 1, 1, 1, 0, 0, 0, 1, 0,\n",
       "       0, 0, 0, 1, 1, 0, 1, 1, 0, 0, 0, 1, 1, 1, 1, 1, 0, 1, 1, 1, 1, 1,\n",
       "       1, 1, 0, 0, 0], dtype=int32)"
      ]
     },
     "execution_count": null,
     "metadata": {},
     "output_type": "execute_result"
    }
   ],
   "source": [
    "#| hide\n",
    "clusters = get_kmeans(model, football_dataset.get(0))\n",
    "clusters.get(\"clusters\").get(2).get(\"labels\")"
   ]
  },
  {
   "cell_type": "code",
   "execution_count": null,
   "metadata": {},
   "outputs": [],
   "source": [
    "#| export\n",
    "import matplotlib.pyplot as plt\n",
    "import seaborn as sns\n",
    "\n",
    "def plot_clusters(n_clusters: int, data, labels, algo):\n",
    "    fig, ax = plt.subplots()\n",
    "    centers = algo.cluster_centers_\n",
    "\n",
    "    ax.scatter(data[:, 0], data[:, 1], s=10, c=algo.labels_)\n",
    "    ax.scatter(centers[:, 0], centers[:, 1], c=\"r\", s=20)\n",
    "\n",
    "    ax.set_title(f\"KMeans : {n_clusters} clusters\")\n",
    "    \n",
    "    plt.show()"
   ]
  },
  {
   "cell_type": "code",
   "execution_count": null,
   "metadata": {},
   "outputs": [
    {
     "data": {
      "image/png": "[encoded data removed]",
      "text/plain": [
       "<Figure size 640x480 with 1 Axes>"
      ]
     },
     "metadata": {},
     "output_type": "display_data"
    }
   ],
   "source": [
    "#| hide\n",
    "cluster_n = 5\n",
    "cluster_n_data = clusters.get(\"clusters\").get(cluster_n)\n",
    "plot_clusters(\n",
    "    n_clusters=cluster_n, \n",
    "    data=clusters.get(\"data\"),\n",
    "    labels=cluster_n_data.get(\"labels\"),\n",
    "    algo=cluster_n_data.get(\"algo\")\n",
    ")"
   ]
  },
  {
   "cell_type": "code",
   "execution_count": null,
   "metadata": {},
   "outputs": [],
   "source": [
    "#| hide\n",
    "import nbdev; nbdev.nbdev_export()"
   ]
  },
  {
   "cell_type": "code",
   "execution_count": null,
   "metadata": {},
   "outputs": [],
   "source": []
  }
 ],
 "metadata": {
  "kernelspec": {
   "display_name": "python3",
   "language": "python",
   "name": "python3"
  }
 },
 "nbformat": 4,
 "nbformat_minor": 4
}
